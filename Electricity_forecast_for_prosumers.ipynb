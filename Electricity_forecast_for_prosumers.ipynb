{
  "nbformat": 4,
  "nbformat_minor": 0,
  "metadata": {
    "colab": {
      "provenance": [],
      "authorship_tag": "ABX9TyMc35HkJ282wdED19IfwfcO",
      "include_colab_link": true
    },
    "kernelspec": {
      "name": "python3",
      "display_name": "Python 3"
    },
    "language_info": {
      "name": "python"
    }
  },
  "cells": [
    {
      "cell_type": "markdown",
      "metadata": {
        "id": "view-in-github",
        "colab_type": "text"
      },
      "source": [
        "<a href=\"https://colab.research.google.com/github/remussamoila/remussamoila/blob/main/Electricity_forecast_for_prosumers.ipynb\" target=\"_parent\"><img src=\"https://colab.research.google.com/assets/colab-badge.svg\" alt=\"Open In Colab\"/></a>"
      ]
    },
    {
      "cell_type": "code",
      "execution_count": null,
      "metadata": {
        "id": "jm7nXSnU4z86"
      },
      "outputs": [],
      "source": []
    },
    {
      "cell_type": "markdown",
      "source": [
        "Source data for:\n",
        "\n",
        "Weather historical data\n",
        "https://www.ecad.eu/dailydata/index.php\n",
        "\n",
        "Electricity consumtion and production by sources\n",
        "https://www.transelectrica.ro/widget/web/tel/sen-grafic/-/SENGrafic_WAR_SENGraficportlet\n"
      ],
      "metadata": {
        "id": "GqhqBb9z_SDi"
      }
    }
  ]
}